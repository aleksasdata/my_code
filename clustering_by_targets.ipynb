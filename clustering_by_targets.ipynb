{
 "cells": [
  {
   "cell_type": "code",
   "execution_count": 1,
   "metadata": {},
   "outputs": [],
   "source": [
    "import pandas as pd\n",
    "import numpy as np\n",
    "import matplotlib.pyplot as plt\n",
    "\n",
    "from sklearn.decomposition import PCA\n",
    "from sklearn.cluster import KMeans"
   ]
  },
  {
   "cell_type": "code",
   "execution_count": 234,
   "metadata": {},
   "outputs": [],
   "source": [
    "# Get targets data\n",
    "sample_data = pd.read_csv(\"221201_big_requests.csv\").dropna()\n",
    "targets = sample_data[\"target_host\"]"
   ]
  },
  {
   "cell_type": "code",
   "execution_count": null,
   "metadata": {},
   "outputs": [],
   "source": [
    "# Filtering valid targets\n",
    "import requests\n",
    "\n",
    "for target in targets['target_host']:\n",
    "    try:\n",
    "        response = requests.get(target)\n",
    "        if response.status_code == 200:\n",
    "            targets.loc[targets[\"target_host\"] == target, 'valid'] = True\n",
    "        else:\n",
    "            targets.loc[targets[\"target_host\"] == target, 'valid'] = False\n",
    "    except:\n",
    "        pass\n",
    "\n",
    "\n",
    "targets = pd.DataFrame(sample_data[\"target_host\"]).drop_duplicates()\n",
    "targets['target_host'] = \"http://\" + targets['target_host'] # daryti atskirą column\n",
    "targets['valid'] = \"\"\n",
    "\n",
    "targets.to_csv(\"targets_valid.csv\")"
   ]
  },
  {
   "cell_type": "code",
   "execution_count": 177,
   "metadata": {},
   "outputs": [],
   "source": [
    "# Filtering valid targets\n",
    "targets = pd.read_csv('targets_valid.csv')\n",
    "targets['target_host'] = targets['target_host'].str.replace(\"http://\",\"\")\n",
    "sample_data = sample_data.merge(targets, how = \"inner\", on = \"target_host\")\n",
    "sample_data = sample_data[sample_data[\"valid\"] == True]"
   ]
  },
  {
   "cell_type": "code",
   "execution_count": 235,
   "metadata": {},
   "outputs": [],
   "source": [
    "sample_data = sample_data.pivot(index = [\"account_id\", \"vertical\"], columns = \"target_host\", values = \"share\",).fillna(0)\n",
    "sample_data.reset_index(inplace = True)\n",
    "samples = sample_data.drop(columns=[\"account_id\", \"vertical\"]).values"
   ]
  },
  {
   "cell_type": "code",
   "execution_count": 229,
   "metadata": {},
   "outputs": [],
   "source": [
    "from sklearn.preprocessing import StandardScaler\n",
    "scaler = StandardScaler()\n",
    "scaler.fit(samples)\n",
    "StandardScaler(copy=True, with_mean=True, with_std=True)\n",
    "features_scaled = scaler.transform(samples)"
   ]
  },
  {
   "cell_type": "code",
   "execution_count": 236,
   "metadata": {},
   "outputs": [],
   "source": [
    "from sklearn.preprocessing import Normalizer\n",
    "normalizer = Normalizer()\n",
    "normalizer.fit(samples)\n",
    "features_normalized = normalizer.transform(samples)"
   ]
  },
  {
   "cell_type": "code",
   "execution_count": 187,
   "metadata": {},
   "outputs": [
    {
     "data": {
      "image/png": "[encoded data removed]",
      "text/plain": [
       "<Figure size 432x288 with 1 Axes>"
      ]
     },
     "metadata": {
      "needs_background": "light"
     },
     "output_type": "display_data"
    }
   ],
   "source": [
    "# Intrinsic dimension\n",
    "\n",
    "model = PCA()\n",
    "model.fit_transform(features_normalized)\n",
    "\n",
    "features = range(model.n_components_)\n",
    "# features = range(0, 1000)\n",
    "\n",
    "plt.bar(features, model.explained_variance_)\n",
    "# plt.xticks(features)\n",
    "plt.ylabel('variance')\n",
    "plt.show()"
   ]
  },
  {
   "cell_type": "code",
   "execution_count": 198,
   "metadata": {},
   "outputs": [],
   "source": [
    "model = PCA(n_components=150)\n",
    "model.fit(samples)\n",
    "transformed = model.transform(samples)"
   ]
  },
  {
   "cell_type": "code",
   "execution_count": 231,
   "metadata": {},
   "outputs": [],
   "source": [
    "clusters = np.arange(1, 25)\n",
    "model_inertias = []\n",
    "\n",
    "for cluster in clusters:\n",
    "\tmodel = KMeans(n_clusters=cluster)\n",
    "\tmodel.fit(features_scaled)\n",
    "\tmodel_inertias.append(model.inertia_)"
   ]
  },
  {
   "cell_type": "code",
   "execution_count": 65,
   "metadata": {},
   "outputs": [
    {
     "data": {
      "text/plain": [
       "4640.157236885483"
      ]
     },
     "execution_count": 65,
     "metadata": {},
     "output_type": "execute_result"
    }
   ],
   "source": [
    "model_inertias[12]"
   ]
  },
  {
   "cell_type": "code",
   "execution_count": 232,
   "metadata": {},
   "outputs": [
    {
     "data": {
      "text/plain": [
       "[<matplotlib.lines.Line2D at 0x18c13b7bbe0>]"
      ]
     },
     "execution_count": 232,
     "metadata": {},
     "output_type": "execute_result"
    },
    {
     "data": {
      "image/png": "[encoded data removed]",
      "text/plain": [
       "<Figure size 432x288 with 1 Axes>"
      ]
     },
     "metadata": {
      "needs_background": "light"
     },
     "output_type": "display_data"
    }
   ],
   "source": [
    "plt.plot(clusters, model_inertias)"
   ]
  },
  {
   "cell_type": "code",
   "execution_count": 201,
   "metadata": {},
   "outputs": [],
   "source": [
    "model = KMeans(n_clusters=12)\n",
    "# labels = model.fit_predict(samples)\n",
    "# labels = model.fit_predict(transformed)\n",
    "labels = model.fit_predict(features_normalized)\n",
    "# labels = model.fit_predict(features_scaled)\n",
    "sample_data[\"label\"] = labels"
   ]
  },
  {
   "cell_type": "code",
   "execution_count": 239,
   "metadata": {},
   "outputs": [
    {
     "data": {
      "text/plain": [
       "2     2983\n",
       "4     1895\n",
       "8      520\n",
       "6      494\n",
       "9      472\n",
       "1      414\n",
       "11     251\n",
       "3      230\n",
       "10     224\n",
       "7      219\n",
       "5      200\n",
       "0      115\n",
       "Name: label, dtype: int64"
      ]
     },
     "execution_count": 239,
     "metadata": {},
     "output_type": "execute_result"
    }
   ],
   "source": [
    "# test\n",
    "\n",
    "model = KMeans(n_clusters=12)\n",
    "labels = model.fit_predict(features_normalized)\n",
    "sample_data[\"label\"] = labels\n",
    "sample_data[\"label\"].value_counts()"
   ]
  },
  {
   "cell_type": "code",
   "execution_count": 204,
   "metadata": {},
   "outputs": [
    {
     "data": {
      "text/plain": [
       "0     2765\n",
       "3     1098\n",
       "9      813\n",
       "8      572\n",
       "1      554\n",
       "2      497\n",
       "6      453\n",
       "4      390\n",
       "11     276\n",
       "5      255\n",
       "7      201\n",
       "10     143\n",
       "Name: label, dtype: int64"
      ]
     },
     "execution_count": 204,
     "metadata": {},
     "output_type": "execute_result"
    }
   ],
   "source": [
    "# valid normalized\n",
    "\n",
    "model = KMeans(n_clusters=12)\n",
    "labels = model.fit_predict(features_normalized)\n",
    "sample_data[\"label\"] = labels\n",
    "sample_data[\"label\"].value_counts()"
   ]
  },
  {
   "cell_type": "code",
   "execution_count": 97,
   "metadata": {},
   "outputs": [
    {
     "data": {
      "text/plain": [
       "4     2965\n",
       "3     1273\n",
       "7      730\n",
       "8      546\n",
       "6      518\n",
       "5      469\n",
       "2      410\n",
       "10     240\n",
       "9      228\n",
       "0      220\n",
       "11     218\n",
       "1      200\n",
       "Name: label, dtype: int64"
      ]
     },
     "execution_count": 97,
     "metadata": {},
     "output_type": "execute_result"
    }
   ],
   "source": [
    "# requests normalized\n",
    "sample_data[\"label\"].value_counts()"
   ]
  },
  {
   "cell_type": "code",
   "execution_count": 84,
   "metadata": {},
   "outputs": [
    {
     "data": {
      "text/plain": [
       "10    3323\n",
       "3     1133\n",
       "2      557\n",
       "4      541\n",
       "6      485\n",
       "1      434\n",
       "5      325\n",
       "0      304\n",
       "11     259\n",
       "9      255\n",
       "8      204\n",
       "7      197\n",
       "Name: label, dtype: int64"
      ]
     },
     "execution_count": 84,
     "metadata": {},
     "output_type": "execute_result"
    }
   ],
   "source": [
    "# traffic share normalized\n",
    "sample_data[\"label\"].value_counts()"
   ]
  },
  {
   "cell_type": "code",
   "execution_count": 78,
   "metadata": {},
   "outputs": [
    {
     "data": {
      "text/plain": [
       "7     5304\n",
       "0      494\n",
       "3      425\n",
       "2      392\n",
       "5      371\n",
       "6      178\n",
       "11     177\n",
       "1      176\n",
       "4      176\n",
       "9      120\n",
       "8      103\n",
       "10     101\n",
       "Name: label, dtype: int64"
      ]
     },
     "execution_count": 78,
     "metadata": {},
     "output_type": "execute_result"
    }
   ],
   "source": [
    "# traffic share\n",
    "sample_data[\"label\"].value_counts()"
   ]
  },
  {
   "cell_type": "code",
   "execution_count": 63,
   "metadata": {},
   "outputs": [
    {
     "data": {
      "text/plain": [
       "1     3420\n",
       "5     1120\n",
       "4      557\n",
       "8      549\n",
       "6      484\n",
       "0      434\n",
       "10     324\n",
       "3      308\n",
       "7      260\n",
       "9      252\n",
       "11     197\n",
       "2      112\n",
       "Name: label, dtype: int64"
      ]
     },
     "execution_count": 63,
     "metadata": {},
     "output_type": "execute_result"
    }
   ],
   "source": [
    "# traffic normalized\n",
    "sample_data[\"label\"].value_counts()"
   ]
  },
  {
   "cell_type": "code",
   "execution_count": 91,
   "metadata": {},
   "outputs": [
    {
     "data": {
      "text/plain": [
       "1     3287\n",
       "7     1346\n",
       "5      706\n",
       "0      555\n",
       "3      523\n",
       "9      469\n",
       "2      241\n",
       "8      224\n",
       "10     220\n",
       "11     204\n",
       "6      169\n",
       "4       73\n",
       "Name: label, dtype: int64"
      ]
     },
     "execution_count": 91,
     "metadata": {},
     "output_type": "execute_result"
    }
   ],
   "source": [
    "# requests share normalized\n",
    "sample_data[\"label\"].value_counts()"
   ]
  },
  {
   "cell_type": "code",
   "execution_count": 87,
   "metadata": {},
   "outputs": [
    {
     "data": {
      "text/plain": [
       "2     5937\n",
       "3      404\n",
       "5      388\n",
       "10     269\n",
       "0      177\n",
       "7      171\n",
       "8      150\n",
       "6      144\n",
       "9      123\n",
       "1       97\n",
       "4       79\n",
       "11      78\n",
       "Name: label, dtype: int64"
      ]
     },
     "execution_count": 87,
     "metadata": {},
     "output_type": "execute_result"
    }
   ],
   "source": [
    "# requests share\n",
    "sample_data[\"label\"].value_counts()"
   ]
  },
  {
   "cell_type": "code",
   "execution_count": 258,
   "metadata": {},
   "outputs": [
    {
     "data": {
      "text/html": [
       "<div>\n",
       "<style scoped>\n",
       "    .dataframe tbody tr th:only-of-type {\n",
       "        vertical-align: middle;\n",
       "    }\n",
       "\n",
       "    .dataframe tbody tr th {\n",
       "        vertical-align: top;\n",
       "    }\n",
       "\n",
       "    .dataframe thead th {\n",
       "        text-align: right;\n",
       "    }\n",
       "</style>\n",
       "<table border=\"1\" class=\"dataframe\">\n",
       "  <thead>\n",
       "    <tr style=\"text-align: right;\">\n",
       "      <th></th>\n",
       "      <th>4</th>\n",
       "      <th>6</th>\n",
       "      <th>2</th>\n",
       "      <th>8</th>\n",
       "      <th>9</th>\n",
       "      <th>1</th>\n",
       "      <th>0</th>\n",
       "      <th>7</th>\n",
       "      <th>10</th>\n",
       "      <th>5</th>\n",
       "      <th>3</th>\n",
       "      <th>11</th>\n",
       "    </tr>\n",
       "  </thead>\n",
       "  <tbody>\n",
       "    <tr>\n",
       "      <th>0</th>\n",
       "      <td>gstatic.com</td>\n",
       "      <td>fbcdn.net</td>\n",
       "      <td>google-analytics.com</td>\n",
       "      <td>gstatic.com</td>\n",
       "      <td>facebook.com</td>\n",
       "      <td>mozilla.org</td>\n",
       "      <td>px-cloud.net</td>\n",
       "      <td>go-mpulse.net</td>\n",
       "      <td>smartproxy.com</td>\n",
       "      <td>gstatic.com</td>\n",
       "      <td>doubleclick.net</td>\n",
       "      <td>cloudflare.com</td>\n",
       "    </tr>\n",
       "    <tr>\n",
       "      <th>1</th>\n",
       "      <td>doubleclick.net</td>\n",
       "      <td>doubleclick.net</td>\n",
       "      <td>doubleclick.net</td>\n",
       "      <td>doubleclick.net</td>\n",
       "      <td>gstatic.com</td>\n",
       "      <td>mozilla.net</td>\n",
       "      <td>doubleclick.net</td>\n",
       "      <td>nikecdn.com</td>\n",
       "      <td>gstatic.com</td>\n",
       "      <td>google-analytics.com</td>\n",
       "      <td>gstatic.com</td>\n",
       "      <td>gstatic.com</td>\n",
       "    </tr>\n",
       "    <tr>\n",
       "      <th>2</th>\n",
       "      <td>googletagmanager.com</td>\n",
       "      <td>gstatic.com</td>\n",
       "      <td>googletagmanager.com</td>\n",
       "      <td>google-analytics.com</td>\n",
       "      <td>fbcdn.net</td>\n",
       "      <td>digicert.com</td>\n",
       "      <td>googleadservices.com</td>\n",
       "      <td>newrelic.com</td>\n",
       "      <td>google-analytics.com</td>\n",
       "      <td>fonts.googleapis.com</td>\n",
       "      <td>facebook.com</td>\n",
       "      <td>content-autofill.googleapis.com</td>\n",
       "    </tr>\n",
       "    <tr>\n",
       "      <th>3</th>\n",
       "      <td>fonts.googleapis.com</td>\n",
       "      <td>content-autofill.googleapis.com</td>\n",
       "      <td>fonts.googleapis.com</td>\n",
       "      <td>fonts.googleapis.com</td>\n",
       "      <td>facebook.net</td>\n",
       "      <td>lencr.org</td>\n",
       "      <td>bing.com</td>\n",
       "      <td>forter.com</td>\n",
       "      <td>googletagmanager.com</td>\n",
       "      <td>doubleclick.net</td>\n",
       "      <td>amazonaws.com</td>\n",
       "      <td>doubleclick.net</td>\n",
       "    </tr>\n",
       "    <tr>\n",
       "      <th>4</th>\n",
       "      <td>facebook.com</td>\n",
       "      <td>google-analytics.com</td>\n",
       "      <td>facebook.com</td>\n",
       "      <td>googletagmanager.com</td>\n",
       "      <td>cdninstagram.com</td>\n",
       "      <td>pki.goog</td>\n",
       "      <td>googletagmanager.com</td>\n",
       "      <td>content-autofill.googleapis.com</td>\n",
       "      <td>doubleclick.net</td>\n",
       "      <td>content-autofill.googleapis.com</td>\n",
       "      <td>demdex.net</td>\n",
       "      <td>facebook.com</td>\n",
       "    </tr>\n",
       "    <tr>\n",
       "      <th>...</th>\n",
       "      <td>...</td>\n",
       "      <td>...</td>\n",
       "      <td>...</td>\n",
       "      <td>...</td>\n",
       "      <td>...</td>\n",
       "      <td>...</td>\n",
       "      <td>...</td>\n",
       "      <td>...</td>\n",
       "      <td>...</td>\n",
       "      <td>...</td>\n",
       "      <td>...</td>\n",
       "      <td>...</td>\n",
       "    </tr>\n",
       "    <tr>\n",
       "      <th>94</th>\n",
       "      <td>moatads.com</td>\n",
       "      <td>disqus.com</td>\n",
       "      <td>1rx.io</td>\n",
       "      <td>360yield.com</td>\n",
       "      <td>stackadapt.com</td>\n",
       "      <td>yimg.com</td>\n",
       "      <td>optimizely.com</td>\n",
       "      <td>google.com</td>\n",
       "      <td>livechatinc.com</td>\n",
       "      <td>lijit.com</td>\n",
       "      <td>advertising.com</td>\n",
       "      <td>stickyadstv.com</td>\n",
       "    </tr>\n",
       "    <tr>\n",
       "      <th>95</th>\n",
       "      <td>ipredictive.com</td>\n",
       "      <td>t.co</td>\n",
       "      <td>360yield.com</td>\n",
       "      <td>creativecdn.com</td>\n",
       "      <td>pinterest.com</td>\n",
       "      <td>360yield.com</td>\n",
       "      <td>zemanta.com</td>\n",
       "      <td>smaato.net</td>\n",
       "      <td>moatads.com</td>\n",
       "      <td>hcaptcha.com</td>\n",
       "      <td>jsdelivr.net</td>\n",
       "      <td>quantcount.com</td>\n",
       "    </tr>\n",
       "    <tr>\n",
       "      <th>96</th>\n",
       "      <td>akamaihd.net</td>\n",
       "      <td>adsafeprotected.com</td>\n",
       "      <td>live.com</td>\n",
       "      <td>rfihub.com</td>\n",
       "      <td>akamaihd.net</td>\n",
       "      <td>vk.com</td>\n",
       "      <td>reddit.com</td>\n",
       "      <td>ipinfo.io</td>\n",
       "      <td>3lift.com</td>\n",
       "      <td>pki.goog</td>\n",
       "      <td>skype.com</td>\n",
       "      <td>media.net</td>\n",
       "    </tr>\n",
       "    <tr>\n",
       "      <th>97</th>\n",
       "      <td>unrulymedia.com</td>\n",
       "      <td>addthis.com</td>\n",
       "      <td>spotxchange.com</td>\n",
       "      <td>googlevideo.com</td>\n",
       "      <td>gumgum.com</td>\n",
       "      <td>tapad.com</td>\n",
       "      <td>tremorhub.com</td>\n",
       "      <td>safebrowsing.googleapis.com</td>\n",
       "      <td>outbrain.com</td>\n",
       "      <td>openstreetmap.org</td>\n",
       "      <td>smartadserver.com</td>\n",
       "      <td>tribalfusion.com</td>\n",
       "    </tr>\n",
       "    <tr>\n",
       "      <th>98</th>\n",
       "      <td>gumgum.com</td>\n",
       "      <td>doubleverify.com</td>\n",
       "      <td>akamaized.net</td>\n",
       "      <td>contextweb.com</td>\n",
       "      <td>360yield.com</td>\n",
       "      <td>medium.com</td>\n",
       "      <td>mcafee.com</td>\n",
       "      <td>footlocker.com</td>\n",
       "      <td>tumblr.com</td>\n",
       "      <td>mozilla.net</td>\n",
       "      <td>vk.com</td>\n",
       "      <td>tiktok.com</td>\n",
       "    </tr>\n",
       "  </tbody>\n",
       "</table>\n",
       "<p>99 rows × 12 columns</p>\n",
       "</div>"
      ],
      "text/plain": [
       "                      4                                6   \\\n",
       "0            gstatic.com                        fbcdn.net   \n",
       "1        doubleclick.net                  doubleclick.net   \n",
       "2   googletagmanager.com                      gstatic.com   \n",
       "3   fonts.googleapis.com  content-autofill.googleapis.com   \n",
       "4           facebook.com             google-analytics.com   \n",
       "..                   ...                              ...   \n",
       "94           moatads.com                       disqus.com   \n",
       "95       ipredictive.com                             t.co   \n",
       "96          akamaihd.net              adsafeprotected.com   \n",
       "97       unrulymedia.com                      addthis.com   \n",
       "98            gumgum.com                 doubleverify.com   \n",
       "\n",
       "                      2                     8                 9   \\\n",
       "0   google-analytics.com           gstatic.com      facebook.com   \n",
       "1        doubleclick.net       doubleclick.net       gstatic.com   \n",
       "2   googletagmanager.com  google-analytics.com         fbcdn.net   \n",
       "3   fonts.googleapis.com  fonts.googleapis.com      facebook.net   \n",
       "4           facebook.com  googletagmanager.com  cdninstagram.com   \n",
       "..                   ...                   ...               ...   \n",
       "94                1rx.io          360yield.com    stackadapt.com   \n",
       "95          360yield.com       creativecdn.com     pinterest.com   \n",
       "96              live.com            rfihub.com      akamaihd.net   \n",
       "97       spotxchange.com       googlevideo.com        gumgum.com   \n",
       "98         akamaized.net        contextweb.com      360yield.com   \n",
       "\n",
       "              1                     0                                7   \\\n",
       "0    mozilla.org          px-cloud.net                    go-mpulse.net   \n",
       "1    mozilla.net       doubleclick.net                      nikecdn.com   \n",
       "2   digicert.com  googleadservices.com                     newrelic.com   \n",
       "3      lencr.org              bing.com                       forter.com   \n",
       "4       pki.goog  googletagmanager.com  content-autofill.googleapis.com   \n",
       "..           ...                   ...                              ...   \n",
       "94      yimg.com        optimizely.com                       google.com   \n",
       "95  360yield.com           zemanta.com                       smaato.net   \n",
       "96        vk.com            reddit.com                        ipinfo.io   \n",
       "97     tapad.com         tremorhub.com      safebrowsing.googleapis.com   \n",
       "98    medium.com            mcafee.com                   footlocker.com   \n",
       "\n",
       "                      10                               5                  3   \\\n",
       "0         smartproxy.com                      gstatic.com    doubleclick.net   \n",
       "1            gstatic.com             google-analytics.com        gstatic.com   \n",
       "2   google-analytics.com             fonts.googleapis.com       facebook.com   \n",
       "3   googletagmanager.com                  doubleclick.net      amazonaws.com   \n",
       "4        doubleclick.net  content-autofill.googleapis.com         demdex.net   \n",
       "..                   ...                              ...                ...   \n",
       "94       livechatinc.com                        lijit.com    advertising.com   \n",
       "95           moatads.com                     hcaptcha.com       jsdelivr.net   \n",
       "96             3lift.com                         pki.goog          skype.com   \n",
       "97          outbrain.com                openstreetmap.org  smartadserver.com   \n",
       "98            tumblr.com                      mozilla.net             vk.com   \n",
       "\n",
       "                                 11  \n",
       "0                    cloudflare.com  \n",
       "1                       gstatic.com  \n",
       "2   content-autofill.googleapis.com  \n",
       "3                   doubleclick.net  \n",
       "4                      facebook.com  \n",
       "..                              ...  \n",
       "94                  stickyadstv.com  \n",
       "95                   quantcount.com  \n",
       "96                        media.net  \n",
       "97                 tribalfusion.com  \n",
       "98                       tiktok.com  \n",
       "\n",
       "[99 rows x 12 columns]"
      ]
     },
     "execution_count": 258,
     "metadata": {},
     "output_type": "execute_result"
    }
   ],
   "source": [
    "targets_by_category = pd.DataFrame()\n",
    "\n",
    "for label in sample_data[\"label\"].unique():\n",
    "    sample_n = sample_data[sample_data[\"label\"] == label]\n",
    "    sams_unpivoted = sample_n.drop(\"label\", axis = 1).melt(id_vars=['account_id', 'vertical'], var_name='target_host', value_name='requests')\n",
    "    # targets_sorted = sams_unpivoted.groupby(\"target_host\").agg({\"requests\":\"sum\"}).sort_values(\"requests\", ascending=False).index\n",
    "    targets_sorted = sams_unpivoted[sams_unpivoted[\"requests\"] > 0].groupby(\"target_host\").agg({\"requests\":\"count\"}).sort_values(\"requests\", ascending=False).index\n",
    "    targets_by_category[label]=targets_sorted[1:100]\n",
    "\n",
    "targets_by_category\n"
   ]
  },
  {
   "cell_type": "code",
   "execution_count": 260,
   "metadata": {},
   "outputs": [],
   "source": [
    "targets_by_category.to_csv('221202_targets_count_by_category_targets_normalized.csv')"
   ]
  }
 ],
 "metadata": {
  "kernelspec": {
   "display_name": "Python 3.9.12 ('machine_learning')",
   "language": "python",
   "name": "python3"
  },
  "language_info": {
   "codemirror_mode": {
    "name": "ipython",
    "version": 3
   },
   "file_extension": ".py",
   "mimetype": "text/x-python",
   "name": "python",
   "nbconvert_exporter": "python",
   "pygments_lexer": "ipython3",
   "version": "3.9.12"
  },
  "orig_nbformat": 4,
  "vscode": {
   "interpreter": {
    "hash": "18294295acd3e11d368b6af0c670cec9fc40dac0b68b6f2ea02b233707e49578"
   }
  }
 },
 "nbformat": 4,
 "nbformat_minor": 2
}
